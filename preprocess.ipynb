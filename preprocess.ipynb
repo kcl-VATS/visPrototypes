{
 "cells": [
  {
   "cell_type": "code",
   "execution_count": 6,
   "metadata": {},
   "outputs": [],
   "source": [
    "import pandas as pd\n",
    "import networkx as nx\n",
    "from typing import List,Tuple\n",
    "from pyvis.network import Network\n",
    "from collections import Counter"
   ]
  },
  {
   "cell_type": "code",
   "execution_count": 7,
   "metadata": {},
   "outputs": [],
   "source": [
    "# functions to manipulate network \n",
    "\n",
    "# given CpG id return the connected network \n",
    "def subgraph_by_cpg(net:nx.classes.digraph.DiGraph,cpg:str)->nx.classes.digraph.DiGraph:\n",
    "    undirected_net:nx.classes.graph.Graph = net.to_undirected() # turn network to undirected to locate all CpG associations by LD\n",
    "    reachable_nodes:list[str] = nx.shortest_path(undirected_net,cpg).keys() # get all reachable nodes given CpG id\n",
    "    return net.subgraph(reachable_nodes)\n",
    "\n"
   ]
  },
  {
   "cell_type": "code",
   "execution_count": 8,
   "metadata": {},
   "outputs": [],
   "source": [
    "\n",
    "file_name = \"ld_clump_assoc.txt\"  # ld - clump association file\n",
    "data = pd.read_csv('data/'+file_name,delimiter = \"\\t\")\n",
    "\n",
    "# find cpgs with highest number of snp connections in the network to plot \n",
    "\n",
    "top_n = 10000\n",
    "cpg_ids = [i[0] for i in Counter(data['CpG'].values).most_common()[:top_n]] \n",
    "\n",
    "# some basic filters for the data\n",
    "\n",
    "#data = data[data['CpG chr']== 1]\n",
    "#data = data[data['CpG'].isin(cpg_ids)]\n",
    "\n"
   ]
  },
  {
   "cell_type": "code",
   "execution_count": 9,
   "metadata": {},
   "outputs": [],
   "source": [
    "# network elements (nodes,edges) \n",
    "\n",
    "# NODES \n",
    "\n",
    "cpgs:List[str] = data['CpG'].unique() # cpg nodes\n",
    "snps:List[str]= data['Top SNP'].unique() # snp nodes\n",
    "lds:List[str] = data['LD clump'].unique() # ld clump nodes\n",
    "\n",
    "# networkX node format with added color attributes\n",
    "\n",
    "nodes_cpg = [(cpg, {'color':'blue'} ) for cpg in cpgs] \n",
    "nodes_snp = [(snp, {'color':'green'}) for snp in snps]\n",
    "nodes_LD = [('ld_' + ld, {'color':'yellow'}) for ld in lds]\n",
    "\n",
    "# EDGES\n",
    "\n",
    "cpg_snp_edges:list[Tuple] = [(cpg,snp) for cpg,snp in zip(data['CpG'],data['Top SNP'])] # cpg-snp\n",
    "snp_ld_edges:list[Tuple] = [(snp,'ld_'+ld) for snp,ld in zip(data['Top SNP'],data['LD clump'])]\n",
    "cpg_ld_edges:list[Tuple] = [(cpg,'ld_'+ld) for cpg,ld in zip(data['CpG'],data['LD clump'])]\n",
    "\n",
    "\n"
   ]
  },
  {
   "cell_type": "code",
   "execution_count": 10,
   "metadata": {},
   "outputs": [
    {
     "data": {
      "text/plain": [
       "212855"
      ]
     },
     "execution_count": 10,
     "metadata": {},
     "output_type": "execute_result"
    }
   ],
   "source": [
    "# initiate network X directed graph \n",
    "\n",
    "cpgNet = nx.DiGraph()\n",
    "\n",
    "# add nodes to the directed graph\n",
    "\n",
    "cpgNet.add_nodes_from(nodes_cpg)\n",
    "#cpgNet.add_nodes_from(nodes_snp)\n",
    "cpgNet.add_nodes_from(nodes_LD)\n",
    "\n",
    "# add edges to the directed graph \n",
    "\n",
    "#cpgNet.add_edges_from(cpg_snp_edges,color='black')\n",
    "#cpgNet.add_edges_from(snp_ld_edges,color='red')\n",
    "cpgNet.add_edges_from(cpg_ld_edges,color='black')\n",
    "\n",
    "# initiate pyVis network drawer for web page interactive view\n",
    "\n",
    "# removing nodes which has a degree 1 : can be a LD-clump connected to a single CpG, a CpG with only one LD clump ...\n",
    "nodes_with_degree_1 = [node[0] for node in dict(cpgNet.degree).items() if node[1]==1]\n",
    "cpgNet.remove_nodes_from(nodes_with_degree_1)\n",
    "\n",
    "#cpgNet = subgraph_by_cpg(cpgNet,cpg_ids[-1])\n",
    "len(cpgNet.nodes)"
   ]
  },
  {
   "cell_type": "markdown",
   "metadata": {},
   "source": [
    "### to-dos: \n",
    "- add summary statistics-based filters to filter-out non-significant snp-cpg pairs\n",
    "- add weight attribute to network graphs to encode pair significance"
   ]
  },
  {
   "cell_type": "markdown",
   "metadata": {},
   "source": [
    "- removing SnPs (LD clump) show specific snp by clicking to the LD clump (SNPs removed)\n",
    "- try prototype on the whole network\n",
    "\t- to see the clusters \n",
    "- check color scheme \n",
    "\t- saturated colors \n",
    "\t- Rampvis color scheme \n",
    "- given cpg, write a function to calculate the associated CpGs in the network "
   ]
  },
  {
   "cell_type": "code",
   "execution_count": 20,
   "metadata": {},
   "outputs": [
    {
     "data": {
      "text/plain": [
       "465"
      ]
     },
     "execution_count": 20,
     "metadata": {},
     "output_type": "execute_result"
    }
   ],
   "source": [
    "copy_net = cpgNet\n",
    "undirected_net:nx.classes.graph.Graph = cpgNet.to_undirected()\n",
    "allowed_jumps =  2\n",
    "reachable_nodes = [node[0] for node in nx.shortest_path_length(undirected_net,source=cpg_ids[0]).items() if node[1] <= allowed_jumps] \n",
    "filt_net = copy_net.subgraph(reachable_nodes)\n",
    "len(filt_net.nodes)"
   ]
  },
  {
   "cell_type": "code",
   "execution_count": 25,
   "metadata": {},
   "outputs": [],
   "source": [
    "net_gen:Network = Network()\n",
    "net_gen.from_nx(filt_net)\n",
    "net_gen.set_options('''\n",
    "const options = {\n",
    "  \"physics\": {\n",
    "    \"solver\": \"forceAtlas2Based\"\n",
    "  }\n",
    "}''')\n",
    "net_gen.show('top5CpG.html')"
   ]
  },
  {
   "cell_type": "code",
   "execution_count": null,
   "metadata": {},
   "outputs": [],
   "source": []
  }
 ],
 "metadata": {
  "kernelspec": {
   "display_name": "Python 3.10.0 ('test')",
   "language": "python",
   "name": "python3"
  },
  "language_info": {
   "codemirror_mode": {
    "name": "ipython",
    "version": 3
   },
   "file_extension": ".py",
   "mimetype": "text/x-python",
   "name": "python",
   "nbconvert_exporter": "python",
   "pygments_lexer": "ipython3",
   "version": "3.10.0"
  },
  "orig_nbformat": 4,
  "vscode": {
   "interpreter": {
    "hash": "904935d54ec79a1afcfaf087c39b476cf8589b5fa85396865b2d34a44e4112f3"
   }
  }
 },
 "nbformat": 4,
 "nbformat_minor": 2
}
