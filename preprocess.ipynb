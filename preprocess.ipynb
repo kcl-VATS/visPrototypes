{
 "cells": [
  {
   "cell_type": "code",
   "execution_count": 70,
   "metadata": {},
   "outputs": [],
   "source": [
    "import pandas as pd\n",
    "import networkx as nx\n",
    "from typing import List,Tuple\n",
    "from pyvis.network import Network\n",
    "from collections import Counter\n",
    "from networkx.algorithms.components import weakly_connected_components\n",
    "import matplotlib.pyplot as plt\n",
    "import seaborn as sns\n",
    "import numpy as np\n",
    "from itertools import groupby,chain\n",
    "from operator import itemgetter\n"
   ]
  },
  {
   "cell_type": "code",
   "execution_count": 129,
   "metadata": {},
   "outputs": [],
   "source": [
    "# misc functions \n",
    "\n",
    "def get_network_range(num:int)->str:\n",
    "    if num < 10:\n",
    "        return('small')\n",
    "    elif num < 2000:\n",
    "        return('medium')\n",
    "    else:\n",
    "        return('large')\n",
    "\n",
    "\n",
    "def get_first_tuple(tup:Tuple)->str:\n",
    "    return tup[0]\n",
    "\n",
    "\n",
    "def get_second_tuple(tup:Tuple)->str:\n",
    "    return tup[1]\n",
    "\n",
    "# NETWORK CREATION \n",
    "\n",
    "## functions to generate and manipulate network \n",
    "\n",
    "def create_network(data:pd.DataFrame)->nx.classes.digraph.DiGraph:\n",
    "    \n",
    "    cpgs:List[str] = data['CpG'].unique() # cpg nodes\n",
    "    #snps:List[str]= data['Top SNP'].unique() # snp nodes\n",
    "    lds:List[str] = data['LD clump'].unique() # ld clump nodes\n",
    "\n",
    "    # networkX node format with added color attributes\n",
    "\n",
    "    nodes_cpg = [(cpg, {'color':'#7fc97f'} ) for cpg in cpgs] \n",
    "    #nodes_snp = [(snp, {'color':'#beaed4'}) for snp in snps]\n",
    "    nodes_LD = [('ld_' + ld, {'color':'#beaed4'}) for ld in lds]\n",
    "\n",
    "    # EDGES\n",
    "\n",
    "    #cpg_snp_edges:list[Tuple] = [(cpg,snp) for cpg,snp in zip(data['CpG'],data['Top SNP'])] # cpg-snp\n",
    "    #snp_ld_edges:list[Tuple] = [(snp,'ld_'+ld) for snp,ld in zip(data['Top SNP'],data['LD clump'])]\n",
    "    #cpg_ld_weighted_edges:list[Tuple] = [(cpg,'ld_'+ld,w) for cpg,ld,w in zip(data['CpG'],data['LD clump'],data['P'])]\n",
    "    cpg_ld_edges:list[Tuple] = [(cpg,'ld_'+ld) for cpg,ld in zip(data['CpG'],data['LD clump'])]\n",
    "\n",
    "    cpgNet = nx.DiGraph()\n",
    "\n",
    "    # add nodes to the directed graph\n",
    "\n",
    "    cpgNet.add_nodes_from(nodes_cpg)\n",
    "    #cpgNet.add_nodes_from(nodes_snp)\n",
    "    cpgNet.add_nodes_from(nodes_LD)\n",
    "\n",
    "    # add edges to the directed graph \n",
    "\n",
    "    #cpgNet.add_edges_from(cpg_snp_edges,color='black')\n",
    "    #cpgNet.add_edges_from(snp_ld_edges,color='red')\n",
    "    #cpgNet.add_weighted_edges_from(cpg_ld_weighted_edges,color='black')\n",
    "    cpgNet.add_edges_from(cpg_ld_edges,color='black')\n",
    "\n",
    "    # removing nodes which has a degree 1 : can be a LD-clump connected to a single CpG, a CpG with only one LD clump ...\n",
    "    \n",
    "    weak_components:list[list] = [list(weak_component) for weak_component in weakly_connected_components(cpgNet)]\n",
    "    cpg_ld_singles:list[list] = np.array([cpg_ld for cpg_ld in weak_components if len(cpg_ld)<=2]).flatten()\n",
    "    cpgNet.remove_nodes_from(cpg_ld_singles)\n",
    "\n",
    "\n",
    "    return cpgNet\n",
    "\n",
    "# given CpG id return the connected network \n",
    "\n",
    "def subgraph_by_cpg(net:nx.classes.digraph.DiGraph,cpg:str)->nx.classes.digraph.DiGraph:\n",
    "    undirected_net:nx.classes.graph.Graph = net.to_undirected() # turn network to undirected to locate all CpG associations by LD\n",
    "    allowed_jumps =  2\n",
    "    reachable_nodes = [node[0] for node in nx.shortest_path_length(undirected_net,source=cpg).items() \n",
    "                       if node[1] <= allowed_jumps] \n",
    "    subGraph =  net.subgraph(reachable_nodes)\n",
    "    \n",
    "    # change the color of source node\n",
    "    \n",
    "    nx.set_node_attributes(subGraph,{cpg:'#fdc086'},'color')\n",
    "\n",
    "    # change the color of source edges\n",
    "\n",
    "    edges_dict = {edges : 'blue' for edges in subGraph.edges(cpg)}\n",
    "    nx.set_edge_attributes(subGraph,edges_dict,'color')\n",
    "    \n",
    "    return subGraph\n",
    "\n",
    "def aggregate_similar_nodes(net:nx.classes.digraph.DiGraph,num:int)->nx.classes.digraph.DiGraph:\n",
    "    \n",
    "    subnet = nx.DiGraph(net)\n",
    "    subgraph_cpgs = [cpg for cpg in subnet.nodes \n",
    "                 if cpg[0] == 'c'] \n",
    "                 \n",
    "    cpgs_with_one_degree = [cpg for cpg in subgraph_cpgs \n",
    "                    if subnet.degree(cpg)==num] # cpg nodes with single connections\n",
    "                    \n",
    "    cpg_ld_pairs = [(cpg,list(subnet.edges(cpg))[0][1]) for cpg in cpgs_with_one_degree] # cpg-ld edges with single connections\n",
    "\n",
    "    cpg_ld_pairs.sort(key=lambda x: x[1]) # sort by the LD clump connection before grouping\n",
    "    cpg_ld_pairs_group = {key : list(map(get_first_tuple,list(group))) \n",
    "                for key, group in groupby(cpg_ld_pairs, itemgetter(1))} # group tuples by second value \n",
    "    cpg_ld_groups = {key: group for key,group in cpg_ld_pairs_group.items() \n",
    "                if len(group)>=2}\n",
    "    cpgs_to_remove = list(chain(*list(cpg_ld_groups.values())))\n",
    "\n",
    "    # refactorizes this\n",
    "    new_edges = []\n",
    "    weights = []\n",
    "    new_nodes = []\n",
    "    i = 0\n",
    "    for key, val in cpg_ld_groups.items():   \n",
    "        code = (i,key)\n",
    "        weight = len(val)\n",
    "        new_nodes.append(i)\n",
    "        new_edges.append(code)\n",
    "        weights.append(weight)\n",
    "        i += 1\n",
    "\n",
    "    subnet.remove_nodes_from(cpgs_to_remove)\n",
    "    subnet.add_nodes_from(new_nodes)\n",
    "    subnet.add_edges_from(new_edges)\n",
    "    return subnet\n",
    "\n",
    "\n",
    "\n",
    "# NETWORK plotting\n",
    "\n",
    "def plot_visjs(net:nx.classes.digraph.DiGraph):\n",
    "    net_gen:Network = Network()\n",
    "    net_gen.from_nx(net)\n",
    "    net_gen.set_options('''\n",
    "    const options = {\n",
    "    \"layout\":{\n",
    "        \"improvedLayout\": \"false\"\n",
    "    },\n",
    "    \"physics\": {\n",
    "        \"solver\": \"forceAtlas2Based\",\n",
    "        \"adaptiveTimestep\": \"true\",\n",
    "        \"stabilization\": \"true\",\n",
    "        \"avoidOverlap\":\"0\"\n",
    "\n",
    "    }\n",
    "\n",
    "    }''')\n",
    "    net_gen.show('top5CpG.html')\n",
    "\n"
   ]
  },
  {
   "cell_type": "markdown",
   "metadata": {},
   "source": [
    "### to-dos: \n",
    "- add summary statistics-based filters to filter-out non-significant snp-cpg pairs\n",
    "- add weight attribute to network graphs to encode pair significance"
   ]
  },
  {
   "cell_type": "markdown",
   "metadata": {},
   "source": [
    "- removing SnPs (LD clump) show specific snp by clicking to the LD clump (SNPs removed)\n",
    "- try prototype on the whole network\n",
    "\t- to see the clusters \n",
    "- check color scheme \n",
    "\t- saturated colors \n",
    "\t- Rampvis color scheme \n",
    "- given cpg, write a function to calculate the associated CpGs in the network "
   ]
  },
  {
   "cell_type": "markdown",
   "metadata": {},
   "source": [
    "### given cpg function \n",
    "given cpg plot all LD-clumps and other cpgs connected to the network "
   ]
  },
  {
   "cell_type": "code",
   "execution_count": 130,
   "metadata": {},
   "outputs": [
    {
     "name": "stdout",
     "output_type": "stream",
     "text": [
      "315920\n",
      "567\n",
      "397\n"
     ]
    }
   ],
   "source": [
    "file_name = \"ld_clump_assoc.txt\"  # ld - clump association file\n",
    "data = pd.read_csv('data/'+file_name,delimiter = \"\\t\")\n",
    "\n",
    "# find cpgs with highest number of snp connections in the network to plot \n",
    "\n",
    "top_n = 10000\n",
    "cpg_ids = [i[0] for i in Counter(data['CpG'].values).most_common()[:top_n]] \n",
    "\n",
    "cpgNet = create_network(data)\n",
    "print(len(cpgNet))\n",
    "subNet = subgraph_by_cpg(cpgNet,cpg_ids[1])\n",
    "print(len(subNet))\n",
    "subNet = aggregate_similar_nodes(subNet,1)\n",
    "print(len(subNet))"
   ]
  },
  {
   "cell_type": "code",
   "execution_count": 122,
   "metadata": {},
   "outputs": [
    {
     "data": {
      "text/plain": [
       "2909"
      ]
     },
     "execution_count": 122,
     "metadata": {},
     "output_type": "execute_result"
    }
   ],
   "source": [
    "components:list[list] = [list(weak_component) for weak_component in weakly_connected_components(cpgNet)]\n",
    "subGraphs = [cpgNet.subgraph(component) for component in components]\n",
    "subGraphs_length = [len(subgraph.nodes) for subgraph in subGraphs]\n",
    "ranges = Counter([get_network_range(length) for length in subGraphs_length])\n",
    "sorted_subGraphs = sorted(subGraphs,key= lambda x: len(x.nodes),reverse=True)\n",
    "test_subGraph = sorted_subGraphs[1]\n",
    "len(test_subGraph)"
   ]
  },
  {
   "cell_type": "code",
   "execution_count": 117,
   "metadata": {},
   "outputs": [
    {
     "ename": "TypeError",
     "evalue": "'int' object is not subscriptable",
     "output_type": "error",
     "traceback": [
      "\u001b[0;31m---------------------------------------------------------------------------\u001b[0m",
      "\u001b[0;31mTypeError\u001b[0m                                 Traceback (most recent call last)",
      "\u001b[1;32m/Users/tuna/Documents/GitHub/visPrototypes/preprocess.ipynb Cell 8\u001b[0m in \u001b[0;36m<cell line: 6>\u001b[0;34m()\u001b[0m\n\u001b[1;32m      <a href='vscode-notebook-cell:/Users/tuna/Documents/GitHub/visPrototypes/preprocess.ipynb#ch0000007?line=0'>1</a>\u001b[0m \u001b[39m# finding all cpgs grouped by a single connection to an LD clump to \u001b[39;00m\n\u001b[1;32m      <a href='vscode-notebook-cell:/Users/tuna/Documents/GitHub/visPrototypes/preprocess.ipynb#ch0000007?line=1'>2</a>\u001b[0m \u001b[39m# group those cpgs\u001b[39;00m\n\u001b[1;32m      <a href='vscode-notebook-cell:/Users/tuna/Documents/GitHub/visPrototypes/preprocess.ipynb#ch0000007?line=2'>3</a>\u001b[0m \u001b[39m# accumulate groups to reduce the number of nodes and edges in the network \u001b[39;00m\n\u001b[1;32m      <a href='vscode-notebook-cell:/Users/tuna/Documents/GitHub/visPrototypes/preprocess.ipynb#ch0000007?line=3'>4</a>\u001b[0m \u001b[39m# all cpg nodes of subgraph \u001b[39;00m\n\u001b[1;32m      <a href='vscode-notebook-cell:/Users/tuna/Documents/GitHub/visPrototypes/preprocess.ipynb#ch0000007?line=4'>5</a>\u001b[0m test_subGraph \u001b[39m=\u001b[39m nx\u001b[39m.\u001b[39mDiGraph(test_subGraph)\n\u001b[0;32m----> <a href='vscode-notebook-cell:/Users/tuna/Documents/GitHub/visPrototypes/preprocess.ipynb#ch0000007?line=5'>6</a>\u001b[0m subgraph_cpgs \u001b[39m=\u001b[39m [cpg \u001b[39mfor\u001b[39;00m cpg \u001b[39min\u001b[39;00m test_subGraph\u001b[39m.\u001b[39mnodes \n\u001b[1;32m      <a href='vscode-notebook-cell:/Users/tuna/Documents/GitHub/visPrototypes/preprocess.ipynb#ch0000007?line=6'>7</a>\u001b[0m                  \u001b[39mif\u001b[39;00m cpg[\u001b[39m0\u001b[39m] \u001b[39m==\u001b[39m \u001b[39m'\u001b[39m\u001b[39mc\u001b[39m\u001b[39m'\u001b[39m] \n\u001b[1;32m      <a href='vscode-notebook-cell:/Users/tuna/Documents/GitHub/visPrototypes/preprocess.ipynb#ch0000007?line=8'>9</a>\u001b[0m cpgs_with_one_degree \u001b[39m=\u001b[39m [cpg \u001b[39mfor\u001b[39;00m cpg \u001b[39min\u001b[39;00m subgraph_cpgs \n\u001b[1;32m     <a href='vscode-notebook-cell:/Users/tuna/Documents/GitHub/visPrototypes/preprocess.ipynb#ch0000007?line=9'>10</a>\u001b[0m                         \u001b[39mif\u001b[39;00m test_subGraph\u001b[39m.\u001b[39mdegree(cpg)\u001b[39m==\u001b[39m\u001b[39m1\u001b[39m] \u001b[39m# cpg nodes with single connections\u001b[39;00m\n\u001b[1;32m     <a href='vscode-notebook-cell:/Users/tuna/Documents/GitHub/visPrototypes/preprocess.ipynb#ch0000007?line=11'>12</a>\u001b[0m cpg_ld_pairs \u001b[39m=\u001b[39m [(cpg,\u001b[39mlist\u001b[39m(test_subGraph\u001b[39m.\u001b[39medges(cpg))[\u001b[39m0\u001b[39m][\u001b[39m1\u001b[39m]) \u001b[39mfor\u001b[39;00m cpg \u001b[39min\u001b[39;00m cpgs_with_one_degree] \u001b[39m# cpg-ld edges with single connections\u001b[39;00m\n",
      "\u001b[1;32m/Users/tuna/Documents/GitHub/visPrototypes/preprocess.ipynb Cell 8\u001b[0m in \u001b[0;36m<listcomp>\u001b[0;34m(.0)\u001b[0m\n\u001b[1;32m      <a href='vscode-notebook-cell:/Users/tuna/Documents/GitHub/visPrototypes/preprocess.ipynb#ch0000007?line=0'>1</a>\u001b[0m \u001b[39m# finding all cpgs grouped by a single connection to an LD clump to \u001b[39;00m\n\u001b[1;32m      <a href='vscode-notebook-cell:/Users/tuna/Documents/GitHub/visPrototypes/preprocess.ipynb#ch0000007?line=1'>2</a>\u001b[0m \u001b[39m# group those cpgs\u001b[39;00m\n\u001b[1;32m      <a href='vscode-notebook-cell:/Users/tuna/Documents/GitHub/visPrototypes/preprocess.ipynb#ch0000007?line=2'>3</a>\u001b[0m \u001b[39m# accumulate groups to reduce the number of nodes and edges in the network \u001b[39;00m\n\u001b[1;32m      <a href='vscode-notebook-cell:/Users/tuna/Documents/GitHub/visPrototypes/preprocess.ipynb#ch0000007?line=3'>4</a>\u001b[0m \u001b[39m# all cpg nodes of subgraph \u001b[39;00m\n\u001b[1;32m      <a href='vscode-notebook-cell:/Users/tuna/Documents/GitHub/visPrototypes/preprocess.ipynb#ch0000007?line=4'>5</a>\u001b[0m test_subGraph \u001b[39m=\u001b[39m nx\u001b[39m.\u001b[39mDiGraph(test_subGraph)\n\u001b[1;32m      <a href='vscode-notebook-cell:/Users/tuna/Documents/GitHub/visPrototypes/preprocess.ipynb#ch0000007?line=5'>6</a>\u001b[0m subgraph_cpgs \u001b[39m=\u001b[39m [cpg \u001b[39mfor\u001b[39;00m cpg \u001b[39min\u001b[39;00m test_subGraph\u001b[39m.\u001b[39mnodes \n\u001b[0;32m----> <a href='vscode-notebook-cell:/Users/tuna/Documents/GitHub/visPrototypes/preprocess.ipynb#ch0000007?line=6'>7</a>\u001b[0m                  \u001b[39mif\u001b[39;00m cpg[\u001b[39m0\u001b[39;49m] \u001b[39m==\u001b[39m \u001b[39m'\u001b[39m\u001b[39mc\u001b[39m\u001b[39m'\u001b[39m] \n\u001b[1;32m      <a href='vscode-notebook-cell:/Users/tuna/Documents/GitHub/visPrototypes/preprocess.ipynb#ch0000007?line=8'>9</a>\u001b[0m cpgs_with_one_degree \u001b[39m=\u001b[39m [cpg \u001b[39mfor\u001b[39;00m cpg \u001b[39min\u001b[39;00m subgraph_cpgs \n\u001b[1;32m     <a href='vscode-notebook-cell:/Users/tuna/Documents/GitHub/visPrototypes/preprocess.ipynb#ch0000007?line=9'>10</a>\u001b[0m                         \u001b[39mif\u001b[39;00m test_subGraph\u001b[39m.\u001b[39mdegree(cpg)\u001b[39m==\u001b[39m\u001b[39m1\u001b[39m] \u001b[39m# cpg nodes with single connections\u001b[39;00m\n\u001b[1;32m     <a href='vscode-notebook-cell:/Users/tuna/Documents/GitHub/visPrototypes/preprocess.ipynb#ch0000007?line=11'>12</a>\u001b[0m cpg_ld_pairs \u001b[39m=\u001b[39m [(cpg,\u001b[39mlist\u001b[39m(test_subGraph\u001b[39m.\u001b[39medges(cpg))[\u001b[39m0\u001b[39m][\u001b[39m1\u001b[39m]) \u001b[39mfor\u001b[39;00m cpg \u001b[39min\u001b[39;00m cpgs_with_one_degree] \u001b[39m# cpg-ld edges with single connections\u001b[39;00m\n",
      "\u001b[0;31mTypeError\u001b[0m: 'int' object is not subscriptable"
     ]
    }
   ],
   "source": [
    "# finding all cpgs grouped by a single connection to an LD clump to \n",
    "# group those cpgs\n",
    "# accumulate groups to reduce the number of nodes and edges in the network \n",
    "# all cpg nodes of subgraph \n",
    "test_subGraph = nx.DiGraph(test_subGraph)\n",
    "subgraph_cpgs = [cpg for cpg in test_subGraph.nodes \n",
    "                 if cpg[0] == 'c'] \n",
    "                 \n",
    "cpgs_with_one_degree = [cpg for cpg in subgraph_cpgs \n",
    "                        if test_subGraph.degree(cpg)==1] # cpg nodes with single connections\n",
    "                        \n",
    "cpg_ld_pairs = [(cpg,list(test_subGraph.edges(cpg))[0][1]) for cpg in cpgs_with_one_degree] # cpg-ld edges with single connections\n",
    "\n",
    "cpg_ld_pairs.sort(key=lambda x: x[1]) # sort by the LD clump connection before grouping\n",
    "cpg_ld_pairs_group = {key : list(map(get_first_tuple,list(group))) \n",
    "                    for key, group in groupby(cpg_ld_pairs, itemgetter(1))} # group tuples by second value \n",
    "cpg_ld_groups = {key: group for key,group in cpg_ld_pairs_group.items() \n",
    "                    if len(group)>=2}\n",
    "cpgs_to_remove = list(chain(*list(cpg_ld_groups.values())))"
   ]
  },
  {
   "cell_type": "code",
   "execution_count": 99,
   "metadata": {},
   "outputs": [
    {
     "data": {
      "text/plain": [
       "107"
      ]
     },
     "execution_count": 99,
     "metadata": {},
     "output_type": "execute_result"
    }
   ],
   "source": [
    "# refactorizes this\n",
    "new_edges = []\n",
    "weights = []\n",
    "new_nodes = []\n",
    "i = 0\n",
    "for key, val in cpg_ld_groups.items():   \n",
    "    code = (i,key)\n",
    "    weight = len(val)\n",
    "    new_nodes.append(i)\n",
    "    new_edges.append(code)\n",
    "    weights.append(weight)\n",
    "    i += 1\n",
    "len(new_nodes)"
   ]
  },
  {
   "cell_type": "code",
   "execution_count": 100,
   "metadata": {},
   "outputs": [],
   "source": [
    "test_subGraph.remove_nodes_from(cpgs_to_remove)\n",
    "test_subGraph.add_nodes_from(new_nodes)\n",
    "test_subGraph.add_edges_from(new_edges)"
   ]
  },
  {
   "cell_type": "code",
   "execution_count": 101,
   "metadata": {},
   "outputs": [
    {
     "data": {
      "text/plain": [
       "227"
      ]
     },
     "execution_count": 101,
     "metadata": {},
     "output_type": "execute_result"
    }
   ],
   "source": [
    "cpgs_with_two_degrees = [cpg for cpg in subgraph_cpgs \n",
    "                        if test_subGraph.degree(cpg)==2] # cpg nodes with single connections\n",
    "cpg_connections = ['-'.join(i for i in list(map(get_second_tuple,list(test_subGraph.edges(cpg))))) for cpg in cpgs_with_two_degrees]\n",
    "cpg_ld_pairs = list(zip(cpgs_with_two_degrees,cpg_connections))\n",
    "cpg_ld_pairs.sort(key=lambda x: x[1]) # sort by the LD clump connection before grouping\n",
    "cpg_ld_pairs_group = {key : list(map(get_first_tuple,list(group))) \n",
    "                    for key, group in groupby(cpg_ld_pairs, itemgetter(1))} # group tuples by second value \n",
    "cpg_ld_groups = {key: group for key,group in cpg_ld_pairs_group.items() \n",
    "                    if len(group)>=2}\n",
    "cpgs_to_remove = list(chain(*list(cpg_ld_groups.values())))\n",
    "len(cpgs_to_remove)"
   ]
  },
  {
   "cell_type": "code",
   "execution_count": 102,
   "metadata": {},
   "outputs": [
    {
     "data": {
      "text/plain": [
       "67"
      ]
     },
     "execution_count": 102,
     "metadata": {},
     "output_type": "execute_result"
    }
   ],
   "source": [
    "# refactorizes this\n",
    "new_edges = []\n",
    "weights = []\n",
    "new_nodes = []\n",
    "for key, val in cpg_ld_groups.items():   \n",
    "    weight = len(val)\n",
    "    new_nodes.append(i)\n",
    "   \n",
    "    weights.append(weight)\n",
    "    \n",
    "    lds = key.split('-')\n",
    "    for ld in lds :\n",
    "        code = (i,ld)\n",
    "        new_edges.append(code)\n",
    "    i += 1\n",
    "len(new_nodes)"
   ]
  },
  {
   "cell_type": "code",
   "execution_count": 103,
   "metadata": {},
   "outputs": [],
   "source": [
    "test_subGraph.remove_nodes_from(cpgs_to_remove)\n",
    "test_subGraph.add_nodes_from(new_nodes)\n",
    "test_subGraph.add_edges_from(new_edges)"
   ]
  },
  {
   "cell_type": "code",
   "execution_count": 104,
   "metadata": {},
   "outputs": [],
   "source": [
    "cpgs_with_three_degrees = [cpg for cpg in subgraph_cpgs \n",
    "                    if test_subGraph.degree(cpg)==3] # cpg nodes with single connections\n",
    "cpg_connections = ['-'.join(i for i in list(map(get_second_tuple,list(test_subGraph.edges(cpg))))) \n",
    "                    for cpg in cpgs_with_three_degrees]\n",
    "                    \n",
    "cpg_ld_pairs = list(zip(cpgs_with_three_degrees,cpg_connections))\n",
    "cpg_ld_pairs.sort(key=lambda x: x[1]) # sort by the LD clump connection before grouping\n",
    "cpg_ld_pairs_group = {key : list(map(get_first_tuple,list(group))) \n",
    "                for key, group in groupby(cpg_ld_pairs, itemgetter(1))} # group tuples by second value \n",
    "cpg_ld_groups = {key: group for key,group in cpg_ld_pairs_group.items() \n",
    "                if len(group)>=2}\n",
    "cpgs_to_remove = list(chain(*list(cpg_ld_groups.values())))\n"
   ]
  },
  {
   "cell_type": "code",
   "execution_count": 105,
   "metadata": {},
   "outputs": [
    {
     "data": {
      "text/plain": [
       "36"
      ]
     },
     "execution_count": 105,
     "metadata": {},
     "output_type": "execute_result"
    }
   ],
   "source": [
    "# refactorizes this\n",
    "new_edges = []\n",
    "weights = []\n",
    "new_nodes = []\n",
    "for key, val in cpg_ld_groups.items():   \n",
    "    weight = len(val)\n",
    "    new_nodes.append(i)\n",
    "   \n",
    "    weights.append(weight)\n",
    "    \n",
    "    lds = key.split('-')\n",
    "    for ld in lds :\n",
    "        code = (i,ld)\n",
    "        new_edges.append(code)\n",
    "    i += 1\n",
    "len(new_nodes)\n"
   ]
  },
  {
   "cell_type": "code",
   "execution_count": 106,
   "metadata": {},
   "outputs": [],
   "source": [
    "test_subGraph.remove_nodes_from(cpgs_to_remove)\n",
    "test_subGraph.add_nodes_from(new_nodes)\n",
    "test_subGraph.add_edges_from(new_edges)"
   ]
  },
  {
   "cell_type": "code",
   "execution_count": 123,
   "metadata": {},
   "outputs": [],
   "source": [
    "# generates the html file containing vis.js network plot \n"
   ]
  },
  {
   "cell_type": "code",
   "execution_count": 114,
   "metadata": {},
   "outputs": [
    {
     "data": {
      "text/plain": [
       "763"
      ]
     },
     "execution_count": 114,
     "metadata": {},
     "output_type": "execute_result"
    }
   ],
   "source": []
  },
  {
   "cell_type": "code",
   "execution_count": null,
   "metadata": {},
   "outputs": [],
   "source": []
  }
 ],
 "metadata": {
  "kernelspec": {
   "display_name": "Python 3.10.0 ('test')",
   "language": "python",
   "name": "python3"
  },
  "language_info": {
   "codemirror_mode": {
    "name": "ipython",
    "version": 3
   },
   "file_extension": ".py",
   "mimetype": "text/x-python",
   "name": "python",
   "nbconvert_exporter": "python",
   "pygments_lexer": "ipython3",
   "version": "3.10.0"
  },
  "orig_nbformat": 4,
  "vscode": {
   "interpreter": {
    "hash": "904935d54ec79a1afcfaf087c39b476cf8589b5fa85396865b2d34a44e4112f3"
   }
  }
 },
 "nbformat": 4,
 "nbformat_minor": 2
}
