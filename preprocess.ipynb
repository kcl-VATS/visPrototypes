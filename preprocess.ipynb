{
 "cells": [
  {
   "cell_type": "code",
   "execution_count": 79,
   "metadata": {},
   "outputs": [],
   "source": [
    "import pandas as pd\n",
    "import networkx as nx\n",
    "from typing import List\n",
    "from pyvis.network import Network\n",
    "from collections import Counter"
   ]
  },
  {
   "cell_type": "code",
   "execution_count": 80,
   "metadata": {},
   "outputs": [],
   "source": [
    "file_name = \"ld_clump_assoc.txt\"  # ld - clump association file\n",
    "data = pd.read_csv(file_name,delimiter = \"\\t\")\n",
    "\n",
    "# separating LD clump properties into individual columns\n",
    "# 1:798400_A_G -> chr : 1 , pos : 798400 , A1 : A , A2 , G\n",
    "\n",
    "data['LD chr'] = data['LD clump'].apply(lambda x: x.split(':')[0])\n",
    "data['LD pos'] = data['LD clump'].apply(lambda x: x.split(':')[1].split('_')[0])\n",
    "data['LD A1'] = data['LD clump'].apply(lambda x: x.split(':')[1].split('_')[1])\n",
    "data['LD A2'] = data['LD clump'].apply(lambda x: x.split(':')[1].split('_')[2])\n",
    "\n",
    "# find cpgs with highest number of snp connections in the network to plot and filter\n",
    "\n",
    "top_n = 5\n",
    "cpg_ids = [i[0] for i in Counter(data['CpG'].values).most_common()[:top_n]] \n",
    "data = data[data['CpG'].isin(cpg_ids)]\n"
   ]
  },
  {
   "cell_type": "code",
   "execution_count": 81,
   "metadata": {},
   "outputs": [],
   "source": [
    "# network elements (nodes,edges) \n",
    "\n",
    "# NODES \n",
    "\n",
    "cpgs:List[str] = data['CpG'].unique() # cpg nodes\n",
    "snps:List[str]= data['Top SNP'].unique() # snp nodes\n",
    "lds:List[str] = data['LD clump'].unique() # ld clump nodes\n",
    "\n",
    "\n",
    "# networkX node format with added color attributes\n",
    "\n",
    "nodes_cpg = [(cpg, {'color':'blue'} ) for cpg in cpgs] \n",
    "nodes_snp = [(snp, {'color':'green'}) for snp in snps]\n",
    "nodes_LD = [(ld, {'color':'yellow'}) for ld in lds]\n",
    "\n",
    "# EDGES\n",
    "\n",
    "cpg_snp_edges = [(cpg,snp) for cpg,snp in zip(data['CpG'],data['Top SNP'])] # cpg-snp\n",
    "snp_ld_edges = [(snp,ld) for snp,ld in zip(data['Top SNP'],data['LD clump'])]\n",
    "\n",
    "# create snp - snp link object by ld clump\n",
    "\n",
    "snp_snp_link_data = data.filter(items=['Top SNP','LD clump'])\n",
    "snp_snp_link_data.columns = ['source', 'target']\n",
    "snp_snp_link_data['value'] = 1\n",
    "snp_snp_links = snp_snp_link_data.to_dict(orient='records')\n"
   ]
  },
  {
   "cell_type": "code",
   "execution_count": 82,
   "metadata": {},
   "outputs": [],
   "source": [
    "\n",
    "# initiate network X directed graph \n",
    "cpgNet = nx.MultiDiGraph()\n",
    "cpgNet.add_nodes_from(nodes_cpg)\n",
    "cpgNet.add_nodes_from(nodes_snp)\n",
    "cpgNet.add_nodes_from(nodes_LD)\n",
    "cpgNet.add_edges_from(cpg_snp_edges,color='black')\n",
    "cpgNet.add_edges_from(snp_ld_edges,color='red')\n",
    "\n",
    "\n",
    "# initiate pyVis network drawer for web page interactive view\n",
    "net_gen = Network()\n",
    "net_gen.from_nx(cpgNet)\n",
    "net_gen.show('example.html')\n",
    "\n",
    "\n"
   ]
  },
  {
   "cell_type": "code",
   "execution_count": null,
   "metadata": {},
   "outputs": [],
   "source": []
  }
 ],
 "metadata": {
  "kernelspec": {
   "display_name": "Python 3.10.0 ('test')",
   "language": "python",
   "name": "python3"
  },
  "language_info": {
   "codemirror_mode": {
    "name": "ipython",
    "version": 3
   },
   "file_extension": ".py",
   "mimetype": "text/x-python",
   "name": "python",
   "nbconvert_exporter": "python",
   "pygments_lexer": "ipython3",
   "version": "3.10.0"
  },
  "orig_nbformat": 4,
  "vscode": {
   "interpreter": {
    "hash": "904935d54ec79a1afcfaf087c39b476cf8589b5fa85396865b2d34a44e4112f3"
   }
  }
 },
 "nbformat": 4,
 "nbformat_minor": 2
}
